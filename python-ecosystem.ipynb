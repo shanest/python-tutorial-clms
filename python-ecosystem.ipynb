{
 "cells": [
  {
   "cell_type": "markdown",
   "metadata": {
    "slideshow": {
     "slide_type": "slide"
    }
   },
   "source": [
    "# The Python Ecosystem\n",
    "\n",
    "\n",
    "Shane Steinert-Threlkeld"
   ]
  },
  {
   "cell_type": "markdown",
   "metadata": {
    "editable": true,
    "slideshow": {
     "slide_type": "slide"
    },
    "tags": []
   },
   "source": [
    "# What this tutorial is (not)\n",
    "\n",
    "* This is _not_ a general-purpose Python tutorial\n",
    "    - check out `python-language-tutorial.ipynb`\n",
    "* This _is_: something like a \"missing semester\" for Python development\n",
    "    - things that you may or may not have encountered in your education / work lives\n",
    "    - but that should make your lives in the CLMS program (and beyond) easier!"
   ]
  },
  {
   "cell_type": "markdown",
   "metadata": {
    "editable": true,
    "slideshow": {
     "slide_type": "slide"
    },
    "tags": []
   },
   "source": [
    "# Roadmap\n",
    "\n",
    "* Environments and package management\n",
    "* Advanced language features\n",
    "* Writing disciplined code\n",
    "* High performance Python"
   ]
  },
  {
   "cell_type": "markdown",
   "metadata": {},
   "source": []
  }
 ],
 "metadata": {
  "celltoolbar": "Diavoorstelling",
  "kernelspec": {
   "display_name": "Python 3 (ipykernel)",
   "language": "python",
   "name": "python3"
  },
  "language_info": {
   "codemirror_mode": {
    "name": "ipython",
    "version": 3
   },
   "file_extension": ".py",
   "mimetype": "text/x-python",
   "name": "python",
   "nbconvert_exporter": "python",
   "pygments_lexer": "ipython3",
   "version": "3.11.5"
  }
 },
 "nbformat": 4,
 "nbformat_minor": 4
}
