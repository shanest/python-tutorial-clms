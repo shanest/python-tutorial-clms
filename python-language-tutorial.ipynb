{
 "cells": [
  {
   "cell_type": "markdown",
   "metadata": {
    "editable": true,
    "slideshow": {
     "slide_type": "slide"
    },
    "tags": []
   },
   "source": [
    "# Python: the Language and Ecosystem\n",
    "\n",
    "\n",
    "Shane Steinert-Threlkeld"
   ]
  },
  {
   "cell_type": "markdown",
   "metadata": {
    "editable": true,
    "slideshow": {
     "slide_type": "slide"
    },
    "tags": []
   },
   "source": [
    "# Roadmap\n",
    "\n",
    "* **Background**\n",
    "* Getting Started\n",
    "* Language Basics\n",
    "* Best Practices / Ecosystem / Further Resources"
   ]
  },
  {
   "cell_type": "markdown",
   "metadata": {
    "editable": true,
    "slideshow": {
     "slide_type": "slide"
    },
    "tags": []
   },
   "source": [
    "# Background\n",
    "\n",
    "* Python _interpreted_ in most implementations\n",
    "\n",
    "```python\n",
    ":~$ python\n",
    ">>> print('hello world!')\n",
    "hello world\n",
    "```\n",
    "\n",
    "* `echo \"print('hello world')\" > hello.py && python hello.py`"
   ]
  },
  {
   "cell_type": "markdown",
   "metadata": {
    "slideshow": {
     "slide_type": "fragment"
    }
   },
   "source": [
    "* Can be compiled into bytecode (\\*.pyc) and interface with C\n",
    "    * See [Cython](https://cython.org/)\n",
    "    * So: can be a very efficient language (more later on this)"
   ]
  },
  {
   "cell_type": "markdown",
   "metadata": {
    "slideshow": {
     "slide_type": "slide"
    }
   },
   "source": [
    "# Background\n",
    "\n",
    "* Python has a very active user community, and useful package index ([PyPi.org](http://pypi.org)) and package manager (`pip`)\n",
    "    * **N.B.** best used in concert with _virtual environments_ (again: more later)\n",
    "* Many scientific computing packages:\n",
    "    * **`numpy`**, `scipy`, **`pandas`**\n",
    "    * `nltk`\n",
    "    * `scikit-learn`\n",
    "    * Lingua franca of deep learning: `tensorflow`, `pytorch`\n",
    "    * And NLP, e.g. `spacy`, `huggingface`"
   ]
  },
  {
   "cell_type": "markdown",
   "metadata": {
    "editable": true,
    "slideshow": {
     "slide_type": "slide"
    },
    "tags": []
   },
   "source": [
    "# Roadmap\n",
    "\n",
    "* Background\n",
    "* **Getting Started**\n",
    "* Language Basics\n",
    "* Best Practices / Ecosytem / Further Resources"
   ]
  },
  {
   "cell_type": "markdown",
   "metadata": {
    "editable": true,
    "slideshow": {
     "slide_type": "slide"
    },
    "tags": []
   },
   "source": [
    "# Installing Python\n",
    "\n",
    "Global / system-wide installation (more on this later):\n",
    "\n",
    "* **macOS**: MacPorts / homebrew\n",
    "    * `port install python37`\n",
    "    * `brew install python`\n",
    "* **Linux**\n",
    "    * `apt-get python3`\n",
    "    * `yum install python3`\n",
    "* **Windows**\n",
    "    * [http://python.org/downloads/windows](http://python.org/downloads/windows)"
   ]
  },
  {
   "cell_type": "markdown",
   "metadata": {
    "editable": true,
    "slideshow": {
     "slide_type": "slide"
    },
    "tags": []
   },
   "source": [
    "# Installing via Anaconda\n",
    "\n",
    "Alternatively, use [Anaconda](http://anaconda.org) or  [miniconda](https://docs.conda.io/projects/miniconda/en/latest/).  Comes with:\n",
    "* lots of scientific computing packages\n",
    "* great command-line tools (`conda`) for managing virtual environments\n",
    "    * highly encouraged!\n",
    "    * great for custom/local python installs on `patas`\n",
    "    * now used by **all 57x courses**\n",
    "* use `wget` if on a headless machine"
   ]
  },
  {
   "cell_type": "markdown",
   "metadata": {
    "editable": true,
    "slideshow": {
     "slide_type": "slide"
    },
    "tags": []
   },
   "source": [
    "# Editing Python\n",
    "\n",
    "* **PyCharm**\n",
    "    * Integrated Development Environment (IDE)\n",
    "    * Professional version free for students\n",
    "    * [https://www.jetbrains.com/pycharm/](https://www.jetbrains.com/pycharm/)\n",
    "\n",
    "* `vim`: my old faithful, with packages\n",
    "    * worth learning `vim` or `emacs` for powerful text editing via keybindings among other things\n",
    " \n",
    "* [VSCode](https://code.visualstudio.com) (with vim keybindings of course :))\n",
    "    * great plugins / community\n",
    "    * built-in git support\n",
    "    * highly extensible"
   ]
  },
  {
   "cell_type": "markdown",
   "metadata": {
    "editable": true,
    "slideshow": {
     "slide_type": "slide"
    },
    "tags": []
   },
   "source": [
    "# Editing Python\n",
    "\n",
    "* Jupyter Notebooks\n",
    "    * \"Literate programming\" paradigm\n",
    "    * Create distributable \"notebooks\" mixing markdown (incl. LaTeX) inline with code\n",
    "    * E.g.: _these slides_!\n",
    "    \n",
    "Caveat: can encourage bad practices. See [Joel Grus' slides](https://docs.google.com/presentation/d/1n2RlMdmv1p25Xy5thJUhkKGvjtV-dkAIsUXP-AL4ffI/edit#slide=id.g362da58057_0_1).  In general: I **discourage notebooks** for anything beyond very early and rapid prototyping.\n",
    "\n",
    "For a notebook that tries to overcome some of these bad practices, see [nbdev](https://nbdev.fast.ai/).\n",
    "\n",
    "More useful editing tools later in the slides!"
   ]
  },
  {
   "cell_type": "markdown",
   "metadata": {
    "editable": true,
    "slideshow": {
     "slide_type": "slide"
    },
    "tags": []
   },
   "source": [
    "# Roadmap\n",
    "\n",
    "* Background\n",
    "* Getting Started\n",
    "* **Language Basics**\n",
    "* Best Practices / Ecosystem / Resources"
   ]
  },
  {
   "cell_type": "markdown",
   "metadata": {
    "slideshow": {
     "slide_type": "slide"
    }
   },
   "source": [
    "# This Tutorial:\n",
    "\n",
    "[https://github.com/shanest/python-tutorial-clms](https://github.com/shanest/python-tutorial-clms)\n",
    "\n",
    "NB: will skip over some language stuff, but you can download and run the notebook yourself!\n",
    "\n",
    "Following the steps in the README on the GH repo will be good practice in working with `conda` and getting an environment set up."
   ]
  },
  {
   "cell_type": "markdown",
   "metadata": {
    "slideshow": {
     "slide_type": "slide"
    }
   },
   "source": [
    "# Basics: Built-In Types"
   ]
  },
  {
   "cell_type": "code",
   "execution_count": 1,
   "metadata": {
    "slideshow": {
     "slide_type": "fragment"
    }
   },
   "outputs": [],
   "source": [
    "# basics (this is a single-line comment)\n",
    "an_int = 1\n",
    "a_float = 1.2\n",
    "a_bool = True"
   ]
  },
  {
   "cell_type": "markdown",
   "metadata": {
    "slideshow": {
     "slide_type": "slide"
    }
   },
   "source": [
    "# Basics: Built-In Types"
   ]
  },
  {
   "cell_type": "code",
   "execution_count": 2,
   "metadata": {
    "editable": true,
    "slideshow": {
     "slide_type": "fragment"
    },
    "tags": []
   },
   "outputs": [
    {
     "name": "stdout",
     "output_type": "stream",
     "text": [
      "If you use three quotes, \n",
      "the string can include\n",
      "line breaks.\n"
     ]
    }
   ],
   "source": [
    "# strings\n",
    "string1 = 'CLMS rules!'  # this is a comment\n",
    "string2 = \"Some people prefer double-quotes.\"\n",
    "string3 = '''If you use three quotes, \n",
    "the string can include\n",
    "line breaks.'''\n",
    "\n",
    "\"\"\"\n",
    "This is a \n",
    "mult-line comment.\n",
    "\"\"\"\n",
    "\n",
    "print(string3)"
   ]
  },
  {
   "cell_type": "markdown",
   "metadata": {
    "slideshow": {
     "slide_type": "slide"
    }
   },
   "source": [
    "# Gotcha 1: Duck-typing"
   ]
  },
  {
   "cell_type": "code",
   "execution_count": 32,
   "metadata": {
    "slideshow": {
     "slide_type": "fragment"
    }
   },
   "outputs": [
    {
     "data": {
      "text/plain": [
       "''"
      ]
     },
     "execution_count": 32,
     "metadata": {},
     "output_type": "execute_result"
    }
   ],
   "source": [
    "# We'll return to this later\n",
    "\n",
    "an_int = 1\n",
    "a_float = 1.2\n",
    "a_bool = True\n",
    "a_string = \"\"\n",
    "\n",
    "an_int and a_bool and a_string"
   ]
  },
  {
   "cell_type": "code",
   "execution_count": null,
   "metadata": {},
   "outputs": [],
   "source": []
  },
  {
   "cell_type": "markdown",
   "metadata": {
    "slideshow": {
     "slide_type": "slide"
    }
   },
   "source": [
    "# Basics: Built-in Types"
   ]
  },
  {
   "cell_type": "code",
   "execution_count": 4,
   "metadata": {
    "slideshow": {
     "slide_type": "fragment"
    }
   },
   "outputs": [
    {
     "data": {
      "text/plain": [
       "[1, 2, 3, 1, 3, 4]"
      ]
     },
     "execution_count": 4,
     "metadata": {},
     "output_type": "execute_result"
    }
   ],
   "source": [
    "# sequences \n",
    "a_list = [1, 2, 3, 1,]  # mutable\n",
    "a_tuple = (1, 2, 3, 1,)  # immutable\n",
    "a_set = {1, 2, 3, 1,}  # no duplicates, no order\n",
    "\n",
    "a_tuple + (3, 4,)\n",
    "a_tuple\n",
    "\n",
    "a_list.extend([3,4])\n",
    "a_list"
   ]
  },
  {
   "cell_type": "code",
   "execution_count": 5,
   "metadata": {
    "slideshow": {
     "slide_type": "fragment"
    }
   },
   "outputs": [
    {
     "data": {
      "text/plain": [
       "[2, 3]"
      ]
     },
     "execution_count": 5,
     "metadata": {},
     "output_type": "execute_result"
    }
   ],
   "source": [
    "a_list[1:3]"
   ]
  },
  {
   "cell_type": "markdown",
   "metadata": {
    "slideshow": {
     "slide_type": "slide"
    }
   },
   "source": [
    "# Basics: Built-in Types"
   ]
  },
  {
   "cell_type": "code",
   "execution_count": 6,
   "metadata": {
    "slideshow": {
     "slide_type": "fragment"
    }
   },
   "outputs": [
    {
     "data": {
      "text/plain": [
       "'value2'"
      ]
     },
     "execution_count": 6,
     "metadata": {},
     "output_type": "execute_result"
    }
   ],
   "source": [
    "# dictionaries = hash-tables\n",
    "a_dict = {'key1': 'value1',\n",
    "          'key2': 'value2',\n",
    "          3: 4.4}\n",
    "\n",
    "a_dict[3]\n",
    "a_dict['key2']"
   ]
  },
  {
   "cell_type": "code",
   "execution_count": null,
   "metadata": {
    "slideshow": {
     "slide_type": "fragment"
    }
   },
   "outputs": [],
   "source": []
  },
  {
   "cell_type": "markdown",
   "metadata": {
    "editable": true,
    "slideshow": {
     "slide_type": "slide"
    },
    "tags": []
   },
   "source": [
    "# Basics: Time Complexity"
   ]
  },
  {
   "cell_type": "markdown",
   "metadata": {
    "editable": true,
    "slideshow": {
     "slide_type": ""
    },
    "tags": []
   },
   "source": [
    "* Think about data structures and what operations you will be performing often\n",
    "    * [Time complexity of Python data structures](https://wiki.python.org/moin/TimeComplexity)\n",
    "* Generally:\n",
    "    * list and list-likes are good for insertion at end; bad for look-up/membership\n",
    "    * set + dict are good for look-up"
   ]
  },
  {
   "cell_type": "markdown",
   "metadata": {
    "slideshow": {
     "slide_type": "slide"
    }
   },
   "source": [
    "# Basics: Methods"
   ]
  },
  {
   "cell_type": "code",
   "execution_count": 7,
   "metadata": {
    "slideshow": {
     "slide_type": "fragment"
    }
   },
   "outputs": [],
   "source": [
    "def hello(string):\n",
    "    output = 'Hello ' + string\n",
    "    print(output)"
   ]
  },
  {
   "cell_type": "code",
   "execution_count": 8,
   "metadata": {
    "slideshow": {
     "slide_type": "fragment"
    }
   },
   "outputs": [
    {
     "name": "stdout",
     "output_type": "stream",
     "text": [
      "Hello world\n"
     ]
    }
   ],
   "source": [
    "hello('world')"
   ]
  },
  {
   "cell_type": "code",
   "execution_count": null,
   "metadata": {},
   "outputs": [],
   "source": []
  },
  {
   "cell_type": "markdown",
   "metadata": {
    "slideshow": {
     "slide_type": "slide"
    }
   },
   "source": [
    "# Gotcha 2: White Space"
   ]
  },
  {
   "cell_type": "code",
   "execution_count": 9,
   "metadata": {
    "editable": true,
    "slideshow": {
     "slide_type": "fragment"
    },
    "tags": []
   },
   "outputs": [],
   "source": [
    "def hello(string):\n",
    "    # whitespace is meaningful!\n",
    "    output = 'Hello ' + string\n",
    "    return output"
   ]
  },
  {
   "cell_type": "code",
   "execution_count": null,
   "metadata": {
    "slideshow": {
     "slide_type": "fragment"
    }
   },
   "outputs": [],
   "source": []
  },
  {
   "cell_type": "markdown",
   "metadata": {
    "editable": true,
    "slideshow": {
     "slide_type": "slide"
    },
    "tags": []
   },
   "source": [
    "# Basics: Classes"
   ]
  },
  {
   "cell_type": "code",
   "execution_count": 10,
   "metadata": {
    "editable": true,
    "slideshow": {
     "slide_type": "fragment"
    },
    "tags": []
   },
   "outputs": [],
   "source": [
    "class Student:\n",
    "    # class variable\n",
    "    program = 'CLMS'\n",
    "    \n",
    "    def __init__(self, name):\n",
    "        self.name = name\n",
    "        \n",
    "    def set_name(self, new_name):\n",
    "        self.name = new_name\n",
    "    \n",
    "    @classmethod\n",
    "    def class_method(cls, blah):\n",
    "        cls.blah = blah\n",
    "        \n",
    "    @staticmethod\n",
    "    def check_name(name):\n",
    "        return type(name) is str"
   ]
  },
  {
   "cell_type": "code",
   "execution_count": 11,
   "metadata": {
    "slideshow": {
     "slide_type": "fragment"
    }
   },
   "outputs": [
    {
     "data": {
      "text/plain": [
       "'Shania'"
      ]
     },
     "execution_count": 11,
     "metadata": {},
     "output_type": "execute_result"
    }
   ],
   "source": [
    "shane = Student('Shane')\n",
    "shane.name\n",
    "shane.set_name('Shania')\n",
    "shane.name"
   ]
  },
  {
   "cell_type": "markdown",
   "metadata": {
    "slideshow": {
     "slide_type": "slide"
    }
   },
   "source": [
    "# Basics: Control Flow"
   ]
  },
  {
   "cell_type": "code",
   "execution_count": 12,
   "metadata": {
    "slideshow": {
     "slide_type": "fragment"
    }
   },
   "outputs": [
    {
     "data": {
      "text/plain": [
       "4"
      ]
     },
     "execution_count": 12,
     "metadata": {},
     "output_type": "execute_result"
    }
   ],
   "source": [
    "a = 1\n",
    "if a is None:\n",
    "    a = 1\n",
    "    print('None no more')\n",
    "elif a == 3:\n",
    "    a = 1\n",
    "else:\n",
    "    a = None\n",
    "    \n",
    "a = 3 if 2 + 2 == 5 else 4\n",
    "a"
   ]
  },
  {
   "cell_type": "markdown",
   "metadata": {
    "slideshow": {
     "slide_type": "slide"
    }
   },
   "source": [
    "# Basics: Control Flow"
   ]
  },
  {
   "cell_type": "code",
   "execution_count": 13,
   "metadata": {
    "slideshow": {
     "slide_type": "fragment"
    }
   },
   "outputs": [
    {
     "name": "stdout",
     "output_type": "stream",
     "text": [
      "6\n",
      "7\n",
      "0\n",
      "1\n",
      "2\n",
      "3\n",
      "4\n",
      "[2, 3, 4, 2]\n"
     ]
    },
    {
     "data": {
      "text/plain": [
       "{1: 2, 2: 3, 3: 4}"
      ]
     },
     "execution_count": 13,
     "metadata": {},
     "output_type": "execute_result"
    }
   ],
   "source": [
    "a_list = [1, 2, 3, 1,]  # mutable\n",
    "a_tuple = (1, 2, 3, 1,)  # immutable\n",
    "a_set = {1, 2, 3, 1,}  # no duplicates, no order\n",
    "\n",
    "total = 0\n",
    "for num in a_set:\n",
    "    total += num\n",
    "    \n",
    "print(total)\n",
    "print(sum(a_list))\n",
    "\n",
    "for num in range(5):\n",
    "    print(num)\n",
    "    \n",
    "# comprehensions\n",
    "added = [num + 1 for num in a_list]\n",
    "print(added)\n",
    "\n",
    "{n: n+1 for n in a_list}"
   ]
  },
  {
   "cell_type": "markdown",
   "metadata": {
    "slideshow": {
     "slide_type": "slide"
    }
   },
   "source": [
    "# Basics: Control Flow"
   ]
  },
  {
   "cell_type": "code",
   "execution_count": 14,
   "metadata": {
    "slideshow": {
     "slide_type": "fragment"
    }
   },
   "outputs": [
    {
     "name": "stdout",
     "output_type": "stream",
     "text": [
      "4\n",
      "3\n",
      "2\n",
      "1\n",
      "0\n"
     ]
    }
   ],
   "source": [
    "num = 5\n",
    "while num > 0:\n",
    "    num -= 1\n",
    "    print(num)"
   ]
  },
  {
   "cell_type": "markdown",
   "metadata": {
    "slideshow": {
     "slide_type": "slide"
    }
   },
   "source": [
    "# Basics: Files"
   ]
  },
  {
   "cell_type": "code",
   "execution_count": 15,
   "metadata": {
    "editable": true,
    "slideshow": {
     "slide_type": "fragment"
    },
    "tags": []
   },
   "outputs": [
    {
     "name": "stdout",
     "output_type": "stream",
     "text": [
      "hello\n",
      "\n",
      "world\n",
      "\n"
     ]
    }
   ],
   "source": [
    "with open('hello.txt', 'r') as f:  # always open files in a `with`!\n",
    "    for line in f:\n",
    "        print(line)"
   ]
  },
  {
   "cell_type": "markdown",
   "metadata": {
    "slideshow": {
     "slide_type": "slide"
    }
   },
   "source": [
    "# Regular Expressions\n",
    "\n",
    "* Useful for searching / matching patterns in text (e.g. corpora)\n",
    "* In Python: `re` module\n",
    "    * collections of methods, class definitions, etc.\n",
    "    * every file roughly defines a module (but more compicated structures)"
   ]
  },
  {
   "cell_type": "markdown",
   "metadata": {
    "slideshow": {
     "slide_type": "slide"
    }
   },
   "source": [
    "# Regular Expressions"
   ]
  },
  {
   "cell_type": "code",
   "execution_count": 16,
   "metadata": {
    "slideshow": {
     "slide_type": "fragment"
    }
   },
   "outputs": [
    {
     "data": {
      "text/plain": [
       "'racer'"
      ]
     },
     "execution_count": 16,
     "metadata": {},
     "output_type": "execute_result"
    }
   ],
   "source": [
    "import re\n",
    "\n",
    "word = 'raced'\n",
    "re.search('ed$', word)\n",
    "re.split('ed$', word)\n",
    "re.sub('ed$', 'er', word)"
   ]
  },
  {
   "cell_type": "code",
   "execution_count": 17,
   "metadata": {
    "slideshow": {
     "slide_type": "fragment"
    }
   },
   "outputs": [
    {
     "name": "stdout",
     "output_type": "stream",
     "text": [
      "maybe past\n"
     ]
    }
   ],
   "source": [
    "pattern = re.compile('ed$')\n",
    "if pattern.search(word):\n",
    "    print('maybe past')"
   ]
  },
  {
   "cell_type": "markdown",
   "metadata": {
    "slideshow": {
     "slide_type": "slide"
    }
   },
   "source": [
    "# Regular Expressions"
   ]
  },
  {
   "cell_type": "code",
   "execution_count": 18,
   "metadata": {
    "slideshow": {
     "slide_type": "fragment"
    }
   },
   "outputs": [
    {
     "data": {
      "text/plain": [
       "<re.Match object; span=(5, 6), match='5'>"
      ]
     },
     "execution_count": 18,
     "metadata": {},
     "output_type": "execute_result"
    }
   ],
   "source": [
    "# find digits\n",
    "string = 'LING 571'\n",
    "pattern = re.compile('[0-9]')\n",
    "pattern.search(string)"
   ]
  },
  {
   "cell_type": "code",
   "execution_count": 19,
   "metadata": {
    "slideshow": {
     "slide_type": "fragment"
    }
   },
   "outputs": [],
   "source": [
    "# find float-like\n",
    "pattern2 = re.compile('[0-9]\\.[0-9]')  # what's wrong with this?"
   ]
  },
  {
   "cell_type": "markdown",
   "metadata": {
    "slideshow": {
     "slide_type": "slide"
    }
   },
   "source": [
    "# Text Processing"
   ]
  },
  {
   "cell_type": "code",
   "execution_count": 20,
   "metadata": {
    "slideshow": {
     "slide_type": "fragment"
    }
   },
   "outputs": [
    {
     "data": {
      "text/plain": [
       "['quick', 'brown', 'fox']"
      ]
     },
     "execution_count": 20,
     "metadata": {},
     "output_type": "execute_result"
    }
   ],
   "source": [
    "string = 'quick brown fox'\n",
    "string.split(' ')"
   ]
  },
  {
   "cell_type": "code",
   "execution_count": 21,
   "metadata": {
    "slideshow": {
     "slide_type": "fragment"
    }
   },
   "outputs": [
    {
     "data": {
      "text/plain": [
       "'quick, brown, fox'"
      ]
     },
     "execution_count": 21,
     "metadata": {},
     "output_type": "execute_result"
    }
   ],
   "source": [
    "string.replace(' ', ', ')"
   ]
  },
  {
   "cell_type": "code",
   "execution_count": 22,
   "metadata": {
    "slideshow": {
     "slide_type": "fragment"
    }
   },
   "outputs": [
    {
     "data": {
      "text/plain": [
       "True"
      ]
     },
     "execution_count": 22,
     "metadata": {},
     "output_type": "execute_result"
    }
   ],
   "source": [
    "'quick' in string"
   ]
  },
  {
   "cell_type": "markdown",
   "metadata": {
    "editable": true,
    "slideshow": {
     "slide_type": "slide"
    },
    "tags": []
   },
   "source": [
    "# Roadmap\n",
    "\n",
    "* Background\n",
    "* Getting Started\n",
    "* Language Basics\n",
    "* **Best Practices / Ecosystem / Further Resources**"
   ]
  },
  {
   "cell_type": "markdown",
   "metadata": {
    "editable": true,
    "slideshow": {
     "slide_type": "slide"
    },
    "tags": []
   },
   "source": [
    "# Type Hinting\n",
    "\n",
    "In Python 3.5+, you can add type annotations ([https://docs.python.org/3/library/typing.html](https://docs.python.org/3/library/typing.html)):"
   ]
  },
  {
   "cell_type": "code",
   "execution_count": 23,
   "metadata": {
    "editable": true,
    "slideshow": {
     "slide_type": "fragment"
    },
    "tags": []
   },
   "outputs": [],
   "source": [
    "def hello(string: str) -> str:\n",
    "    a = string + 2\n",
    "    return 'Hello ' + string\n",
    "\n",
    "an_int: int = 2"
   ]
  },
  {
   "cell_type": "markdown",
   "metadata": {
    "editable": true,
    "jp-MarkdownHeadingCollapsed": true,
    "slideshow": {
     "slide_type": "slide"
    },
    "tags": []
   },
   "source": [
    "# Type Hinting\n",
    "\n",
    "You should _always_ (pretty much) add type hints. Why?\n",
    "* Readability! Code is for people, not just machines.\n",
    "* Static analysis:\n",
    "    * `mypy` or `pyright`: catch errors before runtime\n",
    "    * Good linter! \n",
    "    * Always use one of these in your editor!\n",
    "* Editor tools:\n",
    "    * code completion, etc, can use type hints in very helpful ways"
   ]
  },
  {
   "cell_type": "markdown",
   "metadata": {
    "editable": true,
    "slideshow": {
     "slide_type": "slide"
    },
    "tags": []
   },
   "source": [
    "# Code Formatting\n",
    "\n",
    "Writing clean, consistent code will be extremely valuable for you, your peers, colleagues, future self, etc.\n",
    "\n",
    "But: it can be a PITA.\n",
    "\n",
    "**Use a code formatter!**\n",
    "\n",
    "* [black](https://black.readthedocs.io/en/stable/)\n",
    "* [ruff](https://docs.astral.sh/ruff/)\n",
    "* [yapf](https://github.com/google/yapf)"
   ]
  },
  {
   "cell_type": "markdown",
   "metadata": {
    "editable": true,
    "slideshow": {
     "slide_type": "slide"
    },
    "tags": []
   },
   "source": [
    "# Comments and Docstrings\n",
    "\n",
    "Write detailed comments and docstrings!\n",
    "\n",
    "I try to follow [Google's Python Style Guide](https://google.github.io/styleguide/pyguide.html) for this."
   ]
  },
  {
   "cell_type": "code",
   "execution_count": 24,
   "metadata": {
    "editable": true,
    "slideshow": {
     "slide_type": ""
    },
    "tags": []
   },
   "outputs": [
    {
     "name": "stdout",
     "output_type": "stream",
     "text": [
      "3\n"
     ]
    }
   ],
   "source": [
    "def find_token(sentence, token, sep=\" \"):\n",
    "    for idx, element in enumerate(sentence.split(sep)):\n",
    "        if element == token:\n",
    "            return idx\n",
    "    raise KeyError(f\"Token {token} not found in sentence.\")\n",
    "\n",
    "print(find_token(\"Hello world my name is Shane\", \"name\"))"
   ]
  },
  {
   "cell_type": "code",
   "execution_count": 25,
   "metadata": {
    "editable": true,
    "slideshow": {
     "slide_type": "subslide"
    },
    "tags": []
   },
   "outputs": [],
   "source": [
    "def find_token(sentence: str, token: str, sep: str =\" \") -> int:\n",
    "    \"\"\"Checks whether a specified token is found in a provided sentence.\n",
    "\n",
    "    If so, returns the index in the sentence of the first occurrence of the token.\n",
    "    If not, raises an error.\n",
    "\n",
    "    Args:\n",
    "        sentence: the sentence to search\n",
    "        token: the token to search for\n",
    "        sep: a separator by which to split the sentence into tokens\n",
    "\n",
    "    Returns:\n",
    "        the index of the first occurrence of `token` in `sentence`, if it exists\n",
    "\n",
    "    Raises:\n",
    "        KeyError, if `token` is not found in `sentence`, when split by `sep`\n",
    "    \"\"\"\n",
    "    # split the sentence by the separator, and enumerate through the tokens by index\n",
    "    for idx, element in enumerate(sentence.split(sep)):\n",
    "        # return the index if token is found\n",
    "        if element == token:\n",
    "            return idx\n",
    "    # end of sentence reached, token not found, so raise an error\n",
    "    raise KeyError(f\"Token {token} not found in sentence.\")"
   ]
  },
  {
   "cell_type": "markdown",
   "metadata": {
    "editable": true,
    "slideshow": {
     "slide_type": "slide"
    },
    "tags": []
   },
   "source": [
    "# Unit Tests\n",
    "\n",
    "Write unit tests!\n",
    "\n",
    "Python built-in `unittest` module.\n",
    "\n",
    "My recommendation (widely used): [pytest](https://pytest.org)"
   ]
  },
  {
   "cell_type": "markdown",
   "metadata": {
    "editable": true,
    "slideshow": {
     "slide_type": "slide"
    },
    "tags": []
   },
   "source": [
    "# Virtual Environments\n",
    "\n",
    "* **Always** use virtual environments, one per project!\n",
    "    * I recommend `conda`, like this tutorial\n",
    "    * Also manages non-Python packages / dependencies\n",
    "    * Compatible with / can use `pip`\n",
    "* Reproducibility\n",
    "    * Include `environment.yml` or `requirements.txt` (for `pip`)\n",
    "    * This repo, as an example\n",
    "* If need even more: _containerization_ ([Docker](https://docker.com))  "
   ]
  },
  {
   "cell_type": "markdown",
   "metadata": {
    "editable": true,
    "slideshow": {
     "slide_type": "slide"
    },
    "tags": []
   },
   "source": [
    "# Useful Packages\n",
    "\n",
    "* Natural Language ToolKit [http://nltk.org](http://nltk.org)\n",
    "    * Large collection of NLP tools, corpora, algorithms:\n",
    "        * tokenizers, stemmers\n",
    "        * parsers\n",
    "        * semantic analysis\n",
    "        * corpus fragments\n",
    "    * Pedagogically oriented: online book (better than docs), examples\n",
    "    * Heavily used in 571, useful elsewhere\n",
    "* **[numpy](https://numpy.org)!!**\n",
    "    * wrapper around very fast C code for numerical computation\n",
    "    * learn to _vectorize_ numerical code as much as possible\n",
    "* PyTorch / TensorFlow "
   ]
  },
  {
   "cell_type": "markdown",
   "metadata": {
    "editable": true,
    "slideshow": {
     "slide_type": "slide"
    },
    "tags": []
   },
   "source": [
    "# Writing High-performance Python\n",
    "\n",
    "* Use new versions when possible! (3.11 has great speed boosts)\n",
    "* Vectorization with numpy (and TF, PyTorch, ..) \n",
    "* JIT compilation with [numba](https://numba.org)\n",
    "* ..."
   ]
  },
  {
   "cell_type": "code",
   "execution_count": 26,
   "metadata": {
    "editable": true,
    "slideshow": {
     "slide_type": "subslide"
    },
    "tags": []
   },
   "outputs": [
    {
     "name": "stdout",
     "output_type": "stream",
     "text": [
      "0.019323292013723403\n"
     ]
    }
   ],
   "source": [
    "import numpy as np\n",
    "import timeit\n",
    "\n",
    "a: np.ndarray = np.arange(100)\n",
    "b: np.ndarray = np.arange(100)\n",
    "\n",
    "def add_loop(a: np.ndarray, b: np.ndarray) -> np.ndarray:\n",
    "    c = []\n",
    "    for idx in range(a.shape[0]):\n",
    "        c.append(a[idx] + b[idx])\n",
    "    return np.array(c)\n",
    "\n",
    "print(timeit.timeit(lambda: add_loop(a, b), number=1000))"
   ]
  },
  {
   "cell_type": "code",
   "execution_count": 27,
   "metadata": {
    "editable": true,
    "slideshow": {
     "slide_type": "fragment"
    },
    "tags": []
   },
   "outputs": [
    {
     "name": "stdout",
     "output_type": "stream",
     "text": [
      "0.00033645896473899484\n"
     ]
    }
   ],
   "source": [
    "print(timeit.timeit(lambda: a+b, number=1000))"
   ]
  },
  {
   "cell_type": "code",
   "execution_count": 28,
   "metadata": {
    "editable": true,
    "slideshow": {
     "slide_type": "subslide"
    },
    "tags": []
   },
   "outputs": [
    {
     "name": "stdout",
     "output_type": "stream",
     "text": [
      "0.025751749984920025\n",
      "0.01085312501527369\n",
      "0.0005847919965162873\n"
     ]
    }
   ],
   "source": [
    "def sum_loop(arr: np.ndarray) -> float:\n",
    "    total = 0\n",
    "    for elt in arr:\n",
    "        total += elt\n",
    "    return total\n",
    "print(timeit.timeit(lambda: sum_loop(a), number=1000))\n",
    "print(timeit.timeit(lambda: sum(a), number=1000))\n",
    "print(timeit.timeit(lambda: a.sum(), number=1000))"
   ]
  },
  {
   "cell_type": "markdown",
   "metadata": {
    "editable": true,
    "jp-MarkdownHeadingCollapsed": true,
    "slideshow": {
     "slide_type": "slide"
    },
    "tags": []
   },
   "source": [
    "# A few notes on numpy\n",
    "\n",
    "Become friends with `np.ndarray` :)"
   ]
  },
  {
   "cell_type": "code",
   "execution_count": 29,
   "metadata": {
    "editable": true,
    "slideshow": {
     "slide_type": "fragment"
    },
    "tags": []
   },
   "outputs": [
    {
     "data": {
      "text/plain": [
       "array([ 45, 145, 245, 345, 445, 545, 645, 745, 845, 945])"
      ]
     },
     "execution_count": 29,
     "metadata": {},
     "output_type": "execute_result"
    }
   ],
   "source": [
    "# shape: [10, 10]\n",
    "a = a.reshape(10, 10)\n",
    "# shape: [10]\n",
    "a[4] # select a \"row\"\n",
    "# shape: [10]\n",
    "a[:, 4] # select a \"column\"\n",
    "# shape: 3\n",
    "a[4, 2:5] # \"slice\"\n",
    "\n",
    "# broadcasting\n",
    "# shape: [10, 10]\n",
    "a + 10\n",
    "a + np.arange(10)\n",
    "a + np.arange(10)[:, np.newaxis] # column instead of row\n",
    "\n",
    "# operations along an axis\n",
    "a.sum()\n",
    "a.sum(axis = 0) # sum along \"rows\"\n",
    "a.sum(axis = 1) # sum along \"columns\""
   ]
  },
  {
   "cell_type": "markdown",
   "metadata": {
    "editable": true,
    "jp-MarkdownHeadingCollapsed": true,
    "slideshow": {
     "slide_type": "slide"
    },
    "tags": []
   },
   "source": [
    "# Writing High-performance Python: Vectorization\n",
    "\n",
    "* For numerical computation, use `numpy` as much as possible\n",
    "    * PyTorch, TensorFlow, Jax: add automatic differentiation\n",
    "    * Similarities with numpy API (Tensor = ndarray)\n",
    "* Good rule of thumb: _never_ iterate over an array/tensor\n",
    "* Vectorize! ([Array programming](https://en.wikipedia.org/wiki/Array_programming))\n",
    "* Get comfortable with fancy indexing, slicing, reshaping as well\n",
    "* Annotate arrays/tensors with _shape_ information in comments\n",
    "* Tutorials:\n",
    "    * https://numpy.org/doc/stable/user/absolute_beginners.html\n",
    "    * https://numpy.org/doc/stable/user/basics.html\n",
    "    * https://www.askpython.com/python-modules/numpy/vectorization-numpy"
   ]
  },
  {
   "cell_type": "markdown",
   "metadata": {
    "editable": true,
    "jp-MarkdownHeadingCollapsed": true,
    "slideshow": {
     "slide_type": "slide"
    },
    "tags": []
   },
   "source": [
    "# Writing High Performance Python: Numba\n",
    "\n",
    "[numba](https://numba.org): just-in-time (jit) compilation! For highly paralellizable code, can help a lot"
   ]
  },
  {
   "cell_type": "code",
   "execution_count": 30,
   "metadata": {
    "editable": true,
    "slideshow": {
     "slide_type": "subslide"
    },
    "tags": []
   },
   "outputs": [
    {
     "data": {
      "text/plain": [
       "array([[  9.,  10.,  11.,  12.,  13.,  14.,  15.,  16.,  17.,  18.],\n",
       "       [ 19.,  20.,  21.,  22.,  23.,  24.,  25.,  26.,  27.,  28.],\n",
       "       [ 29.,  30.,  31.,  32.,  33.,  34.,  35.,  36.,  37.,  38.],\n",
       "       [ 39.,  40.,  41.,  42.,  43.,  44.,  45.,  46.,  47.,  48.],\n",
       "       [ 49.,  50.,  51.,  52.,  53.,  54.,  55.,  56.,  57.,  58.],\n",
       "       [ 59.,  60.,  61.,  62.,  63.,  64.,  65.,  66.,  67.,  68.],\n",
       "       [ 69.,  70.,  71.,  72.,  73.,  74.,  75.,  76.,  77.,  78.],\n",
       "       [ 79.,  80.,  81.,  82.,  83.,  84.,  85.,  86.,  87.,  88.],\n",
       "       [ 89.,  90.,  91.,  92.,  93.,  94.,  95.,  96.,  97.,  98.],\n",
       "       [ 99., 100., 101., 102., 103., 104., 105., 106., 107., 108.]])"
      ]
     },
     "execution_count": 30,
     "metadata": {},
     "output_type": "execute_result"
    }
   ],
   "source": [
    "from numba import jit\n",
    "import numpy as np\n",
    "import timeit\n",
    "\n",
    "# from the numba docs\n",
    "\n",
    "x = np.arange(100).reshape(10, 10)\n",
    "\n",
    "def go_fast_slow(a): # Function is uncompiled\n",
    "    trace = 0.0\n",
    "    for i in range(a.shape[0]):\n",
    "        trace += np.tanh(a[i, i])\n",
    "    return a + trace\n",
    "\n",
    "go_fast_slow(x)\n",
    "\n",
    "@jit(nopython=True)\n",
    "def go_fast(a): # compiled, machine code\n",
    "    trace = 0.0\n",
    "    for i in range(a.shape[0]):\n",
    "        trace += np.tanh(a[i, i])\n",
    "    return a + trace\n",
    "\n",
    "go_fast(x) # compiles now, once\n"
   ]
  },
  {
   "cell_type": "code",
   "execution_count": 31,
   "metadata": {
    "editable": true,
    "slideshow": {
     "slide_type": ""
    },
    "tags": []
   },
   "outputs": [
    {
     "name": "stdout",
     "output_type": "stream",
     "text": [
      "0.01677587500307709\n",
      "0.00042454199865460396\n"
     ]
    }
   ],
   "source": [
    "print(timeit.timeit(lambda: go_fast_slow(x), number=1000))\n",
    "print(timeit.timeit(lambda: go_fast(x), number=1000))"
   ]
  },
  {
   "cell_type": "markdown",
   "metadata": {},
   "source": [
    "# Writing High Performance Python: New Languages\n",
    "\n",
    "A couple of new projects that are worth keeping an eye on, but not yet widely adopted:\n",
    "\n",
    "* [Mojo](https://www.modular.com/mojo): \"The expressiveness of Python, with the performance of C\", i.e. the holy grail\n",
    "    * Powerful dev team, allows progressive typing / performance upgrades\n",
    "    * Still not as ergonomic as they claim to be\n",
    "* [Codon](https://docs.exaloop.io/codon): \"a high-performance Python compiler that compiles Python code to native machine code without any runtime overhead\"\n",
    "    * Actually a new language that's almost, but not identical to, Python\n",
    "    * Could be more ergonomic than Mojo, but also slightly earlier stages\n",
    "    * Has a JIT decorator, similar to `numba`, for existing code-bases"
   ]
  },
  {
   "cell_type": "markdown",
   "metadata": {
    "editable": true,
    "slideshow": {
     "slide_type": "slide"
    },
    "tags": []
   },
   "source": [
    "# Python Resources\n",
    "\n",
    "* Books:\n",
    "    * Lutz and Ascher, _Learning Python_, O'Reilly\n",
    "    * Martelli, _Python in a Nutshell_, O'Reilly\n",
    "    * Beazley, _Python Essential Reference_, Developers Library\n",
    "* Online\n",
    "    * Mark Wilson, _Dive into Python_ [http://www.diveintopython3.net/](http://www.diveintopython3.net/)\n",
    "        * for experienced programmers\n",
    "    * [http://python.org](http://python.org)\n",
    "    * [NLTK book](http://www.nltk.org/book)"
   ]
  }
 ],
 "metadata": {
  "celltoolbar": "Diavoorstelling",
  "kernelspec": {
   "display_name": "Python 3 (ipykernel)",
   "language": "python",
   "name": "python3"
  },
  "language_info": {
   "codemirror_mode": {
    "name": "ipython",
    "version": 3
   },
   "file_extension": ".py",
   "mimetype": "text/x-python",
   "name": "python",
   "nbconvert_exporter": "python",
   "pygments_lexer": "ipython3",
   "version": "3.11.10"
  }
 },
 "nbformat": 4,
 "nbformat_minor": 4
}
