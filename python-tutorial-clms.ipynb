{
 "cells": [
  {
   "cell_type": "markdown",
   "metadata": {
    "slideshow": {
     "slide_type": "slide"
    }
   },
   "source": [
    "# Introduction to Python\n",
    "\n",
    "September 29, 2020\n",
    "\n",
    "Shane Steinert-Threlkeld\n",
    "\n",
    "(building on Scott Farrar, Gina-Anne Levow, and Ryan Georgi)"
   ]
  },
  {
   "cell_type": "markdown",
   "metadata": {
    "slideshow": {
     "slide_type": "slide"
    }
   },
   "source": [
    "# Roadmap\n",
    "\n",
    "* **Background**\n",
    "* Getting Started\n",
    "* Learning and Practicing\n",
    "* NLTK + Resources"
   ]
  },
  {
   "cell_type": "markdown",
   "metadata": {
    "slideshow": {
     "slide_type": "slide"
    }
   },
   "source": [
    "# Background\n",
    "\n",
    "* Python _interpreted_ in most implementations\n",
    "\n",
    "```python\n",
    ":~$ python\n",
    ">>> print('hello world!')\n",
    "hello world\n",
    "```\n",
    "\n",
    "* `echo \"print('hello world')\" > hello.py && python hello.py`"
   ]
  },
  {
   "cell_type": "markdown",
   "metadata": {
    "slideshow": {
     "slide_type": "fragment"
    }
   },
   "source": [
    "* Can be compiled into bytecode (\\*.pyc) and interface with C\n",
    "    * See [https://cython.org/](Cython)\n",
    "    * So: can be a very efficient language"
   ]
  },
  {
   "cell_type": "markdown",
   "metadata": {
    "slideshow": {
     "slide_type": "slide"
    }
   },
   "source": [
    "# Background\n",
    "\n",
    "* Python has a very active user community, and useful package index ([http://pypi.org](PyPi.org)) and package manager (`pip`)\n",
    "    * **N.B.** best used in concert with _virtual environments_\n",
    "* Many scientific computing packages:\n",
    "    * **`numpy`**, `scipy`\n",
    "    * `nltk`\n",
    "    * `scikit-learn`\n",
    "    * Lingua franca of deep learning: `tensorflow`, `pytorch`"
   ]
  },
  {
   "cell_type": "markdown",
   "metadata": {
    "slideshow": {
     "slide_type": "slide"
    }
   },
   "source": [
    "# Roadmap\n",
    "\n",
    "* Background\n",
    "* **Getting Started**\n",
    "* Learning and Practicing\n",
    "* NLTK + Resources"
   ]
  },
  {
   "cell_type": "markdown",
   "metadata": {
    "slideshow": {
     "slide_type": "slide"
    }
   },
   "source": [
    "# Installing Python\n",
    "\n",
    "* **macOS**: MacPorts / homebrew\n",
    "    * `port install python37`\n",
    "    * `brew install python`\n",
    "* **Linux**\n",
    "    * `apt-get python3`\n",
    "    * `yum install python3`\n",
    "* **Windows**\n",
    "    * [http://python.org/downloads/windows]()"
   ]
  },
  {
   "cell_type": "markdown",
   "metadata": {
    "slideshow": {
     "slide_type": "slide"
    }
   },
   "source": [
    "# Installing via Anaconda\n",
    "\n",
    "Alternatively, use [http://anaconda.org](Anaconda).  Comes with:\n",
    "* lots of scientific computing packages\n",
    "* great command-line tools (`conda`) for managing virtual environments\n",
    "* use `wget` if on a headless machine"
   ]
  },
  {
   "cell_type": "markdown",
   "metadata": {
    "slideshow": {
     "slide_type": "slide"
    }
   },
   "source": [
    "# Other Python Tools\n",
    "\n",
    "* **PyCharm**\n",
    "    * Integrated Development Environment (IDE)\n",
    "    * Professional version free for students\n",
    "    * [https://www.jetbrains.com/pycharm/]()\n",
    "    \n",
    "(I personally just use `vim` with some packages for syntax highlighting / linting.  Though I've recently been streamlining my workflow in [https://code.visualstudio.com/](VSCode) with vim keybindings.)"
   ]
  },
  {
   "cell_type": "markdown",
   "metadata": {
    "slideshow": {
     "slide_type": "slide"
    }
   },
   "source": [
    "# Other Python Tools\n",
    "\n",
    "* Jupyter Notebooks\n",
    "    * \"Literate programming\" paradigm\n",
    "    * Create distributable \"notebooks\" mixing markdown (incl. LaTeX) inline with code\n",
    "    * E.g.: _these slides_!\n",
    "    \n",
    "Caveat: can encourage bad practices. See [Joel Grus' slides](https://docs.google.com/presentation/d/1n2RlMdmv1p25Xy5thJUhkKGvjtV-dkAIsUXP-AL4ffI/edit#slide=id.g362da58057_0_1)\n",
    "\n",
    "For a notebook that tries to overcome some of these bad practices, see [https://nbdev.fast.ai/](https://nbdev.fast.ai/)."
   ]
  },
  {
   "cell_type": "markdown",
   "metadata": {
    "slideshow": {
     "slide_type": "slide"
    }
   },
   "source": [
    "# Roadmap\n",
    "\n",
    "* Background\n",
    "* Getting Started\n",
    "* **Learning and Practicing**\n",
    "* NLTK + Resources"
   ]
  },
  {
   "cell_type": "markdown",
   "metadata": {
    "slideshow": {
     "slide_type": "slide"
    }
   },
   "source": [
    "# This Tutorial:\n",
    "\n",
    "[https://github.com/shanest/python-tutorial-clms]()"
   ]
  },
  {
   "cell_type": "markdown",
   "metadata": {
    "slideshow": {
     "slide_type": "slide"
    }
   },
   "source": [
    "# Basics: Built-In Types"
   ]
  },
  {
   "cell_type": "code",
   "execution_count": null,
   "metadata": {
    "slideshow": {
     "slide_type": "fragment"
    }
   },
   "outputs": [],
   "source": [
    "# basics (this is a single-line comment)\n",
    "an_int = 1\n",
    "a_float = 1.2\n",
    "a_bool = True"
   ]
  },
  {
   "cell_type": "markdown",
   "metadata": {
    "slideshow": {
     "slide_type": "slide"
    }
   },
   "source": [
    "# Basics: Built-In Types"
   ]
  },
  {
   "cell_type": "code",
   "execution_count": null,
   "metadata": {
    "slideshow": {
     "slide_type": "fragment"
    }
   },
   "outputs": [],
   "source": [
    "# strings\n",
    "string1 = 'CLMS rules!'  # this is a comment\n",
    "string2 = \"Some people prefer double-quotes.\"\n",
    "string3 = '''If you use three quotes, \n",
    "the string can include\n",
    "line breaks.'''\n",
    "\n",
    "\"\"\" here is\n",
    "a multi-line comment \n",
    "but not really\"\"\"\n",
    "\n",
    "print(string3)"
   ]
  },
  {
   "cell_type": "markdown",
   "metadata": {
    "slideshow": {
     "slide_type": "slide"
    }
   },
   "source": [
    "# Gotcha 1: Duck-typing"
   ]
  },
  {
   "cell_type": "code",
   "execution_count": null,
   "metadata": {
    "slideshow": {
     "slide_type": "fragment"
    }
   },
   "outputs": [],
   "source": [
    "# We'll return to this later\n",
    "\n",
    "an_int = 1\n",
    "a_float = 1.2\n",
    "a_bool = True\n",
    "\n",
    "variable = an_int and a_float and a_bool and string1\n",
    "print(variable)"
   ]
  },
  {
   "cell_type": "markdown",
   "metadata": {
    "slideshow": {
     "slide_type": "slide"
    }
   },
   "source": [
    "# Basics: Built-in Types"
   ]
  },
  {
   "cell_type": "code",
   "execution_count": null,
   "metadata": {
    "slideshow": {
     "slide_type": "fragment"
    }
   },
   "outputs": [],
   "source": [
    "# sequences \n",
    "a_list = [1, 2, 3, 1,]  # mutable\n",
    "a_tuple = (1, 2, 3, 1,)  # immutable\n",
    "a_set = {1, 2, 3, 1,}  # no duplicates, no order\n",
    "\n",
    "a_tuple[-2] = 4"
   ]
  },
  {
   "cell_type": "code",
   "execution_count": null,
   "metadata": {
    "slideshow": {
     "slide_type": "fragment"
    }
   },
   "outputs": [],
   "source": [
    "a_tuple + (5, 3)\n",
    "a_tuple"
   ]
  },
  {
   "cell_type": "markdown",
   "metadata": {
    "slideshow": {
     "slide_type": "slide"
    }
   },
   "source": [
    "# Basics: Built-in Types"
   ]
  },
  {
   "cell_type": "code",
   "execution_count": null,
   "metadata": {
    "slideshow": {
     "slide_type": "fragment"
    }
   },
   "outputs": [],
   "source": [
    "# dictionaries = hash-tables\n",
    "a_dict = {'key1': 'value1',\n",
    "          'key2': 'value2',\n",
    "          3: 4.4}\n",
    "\n",
    "a_dict[3]"
   ]
  },
  {
   "cell_type": "code",
   "execution_count": null,
   "metadata": {
    "slideshow": {
     "slide_type": "fragment"
    }
   },
   "outputs": [],
   "source": []
  },
  {
   "cell_type": "markdown",
   "metadata": {
    "slideshow": {
     "slide_type": "slide"
    }
   },
   "source": [
    "# Basics: Methods"
   ]
  },
  {
   "cell_type": "code",
   "execution_count": null,
   "metadata": {
    "slideshow": {
     "slide_type": "fragment"
    }
   },
   "outputs": [],
   "source": [
    "def hello(string):\n",
    "    output = 'Hello ' + string\n",
    "    print(output)"
   ]
  },
  {
   "cell_type": "code",
   "execution_count": null,
   "metadata": {
    "slideshow": {
     "slide_type": "fragment"
    }
   },
   "outputs": [],
   "source": [
    "hello('world')"
   ]
  },
  {
   "cell_type": "markdown",
   "metadata": {
    "slideshow": {
     "slide_type": "slide"
    }
   },
   "source": [
    "# Gotcha 2: White Space"
   ]
  },
  {
   "cell_type": "code",
   "execution_count": null,
   "metadata": {
    "slideshow": {
     "slide_type": "fragment"
    }
   },
   "outputs": [],
   "source": [
    "def hello(string):\n",
    "output = 'Hello ' + string\n",
    "return output"
   ]
  },
  {
   "cell_type": "markdown",
   "metadata": {
    "slideshow": {
     "slide_type": "slide"
    }
   },
   "source": [
    "# Type Annotations\n",
    "\n",
    "In Python 3.5+, you can add type annotations ([https://docs.python.org/3/library/typing.html]()):"
   ]
  },
  {
   "cell_type": "code",
   "execution_count": null,
   "metadata": {
    "slideshow": {
     "slide_type": "fragment"
    }
   },
   "outputs": [],
   "source": [
    "def hello(string: str):\n",
    "    return 'Hello ' + string\n",
    "\n",
    "hello(2)"
   ]
  },
  {
   "cell_type": "code",
   "execution_count": null,
   "metadata": {
    "slideshow": {
     "slide_type": "fragment"
    }
   },
   "outputs": [],
   "source": []
  },
  {
   "cell_type": "markdown",
   "metadata": {
    "slideshow": {
     "slide_type": "slide"
    }
   },
   "source": [
    "# Basics: Classes"
   ]
  },
  {
   "cell_type": "code",
   "execution_count": null,
   "metadata": {
    "slideshow": {
     "slide_type": "fragment"
    }
   },
   "outputs": [],
   "source": [
    "class Student:\n",
    "    # class variable\n",
    "    program = 'CLMS'\n",
    "    \n",
    "    def __init__(self, name):\n",
    "        self.name = name\n",
    "        \n",
    "    def set_name(self, new_name):\n",
    "        self.name = new_name\n",
    "    \n",
    "    def class_method(blah):\n",
    "        Student.blah = blah"
   ]
  },
  {
   "cell_type": "code",
   "execution_count": null,
   "metadata": {
    "slideshow": {
     "slide_type": "fragment"
    }
   },
   "outputs": [],
   "source": [
    "shane = Student('Shane')\n",
    "shane.name\n",
    "shane.set_name('Shania')\n",
    "shane.name"
   ]
  },
  {
   "cell_type": "markdown",
   "metadata": {
    "slideshow": {
     "slide_type": "slide"
    }
   },
   "source": [
    "# Basics: Control Flow"
   ]
  },
  {
   "cell_type": "code",
   "execution_count": null,
   "metadata": {
    "slideshow": {
     "slide_type": "fragment"
    }
   },
   "outputs": [],
   "source": [
    "a = 1\n",
    "if a is None:\n",
    "    a = 1\n",
    "    print('None no more')\n",
    "elif a == 3:\n",
    "    a = 1\n",
    "else:\n",
    "    a = None\n",
    "    \n",
    "a = 3 if 2 + 2 == 5 else 4\n",
    "a"
   ]
  },
  {
   "cell_type": "markdown",
   "metadata": {
    "slideshow": {
     "slide_type": "slide"
    }
   },
   "source": [
    "# Basics: Control Flow"
   ]
  },
  {
   "cell_type": "code",
   "execution_count": null,
   "metadata": {
    "slideshow": {
     "slide_type": "fragment"
    }
   },
   "outputs": [],
   "source": [
    "a_list = [1, 2, 3, 1,]  # mutable\n",
    "a_tuple = (1, 2, 3, 1,)  # immutable\n",
    "a_set = {1, 2, 3, 1,}  # no duplicates, no order\n",
    "\n",
    "total = 0\n",
    "for num in a_set:\n",
    "    total += num\n",
    "    \n",
    "print(total)\n",
    "print(sum(a_list))\n",
    "\n",
    "for num in range(5):\n",
    "    print(num)\n",
    "    \n",
    "# comprehensions\n",
    "added = [num + 1 for num in a_list]\n",
    "print(added)"
   ]
  },
  {
   "cell_type": "markdown",
   "metadata": {
    "slideshow": {
     "slide_type": "slide"
    }
   },
   "source": [
    "# Basics: Control Flow"
   ]
  },
  {
   "cell_type": "code",
   "execution_count": null,
   "metadata": {
    "slideshow": {
     "slide_type": "fragment"
    }
   },
   "outputs": [],
   "source": [
    "num = 5\n",
    "while num > 0:\n",
    "    num -= 1\n",
    "    print(num)"
   ]
  },
  {
   "cell_type": "markdown",
   "metadata": {
    "slideshow": {
     "slide_type": "slide"
    }
   },
   "source": [
    "# Basics: Files"
   ]
  },
  {
   "cell_type": "code",
   "execution_count": null,
   "metadata": {
    "slideshow": {
     "slide_type": "fragment"
    }
   },
   "outputs": [],
   "source": [
    "with open('dummy.txt', 'r') as f:  # always open files in a `with`!\n",
    "    for line in f:\n",
    "        print(line)"
   ]
  },
  {
   "cell_type": "markdown",
   "metadata": {
    "slideshow": {
     "slide_type": "slide"
    }
   },
   "source": [
    "# Regular Expressions\n",
    "\n",
    "* Useful for searching / matching patterns in text (e.g. corpora)\n",
    "* In Python: `re` module\n",
    "    * collections of methods, class definitions, etc.\n",
    "    * every file roughly defines a module (but more compicated structures)"
   ]
  },
  {
   "cell_type": "markdown",
   "metadata": {
    "slideshow": {
     "slide_type": "slide"
    }
   },
   "source": [
    "# Regular Expressions"
   ]
  },
  {
   "cell_type": "code",
   "execution_count": null,
   "metadata": {
    "slideshow": {
     "slide_type": "fragment"
    }
   },
   "outputs": [],
   "source": [
    "import re\n",
    "\n",
    "word = 'raced'\n",
    "re.search('ed$', word)\n",
    "re.split('ed$', word)\n",
    "re.sub('ed$', 'er', word)"
   ]
  },
  {
   "cell_type": "code",
   "execution_count": null,
   "metadata": {
    "slideshow": {
     "slide_type": "fragment"
    }
   },
   "outputs": [],
   "source": [
    "pattern = re.compile('ed$')\n",
    "if pattern.search(word):\n",
    "    print('maybe past')"
   ]
  },
  {
   "cell_type": "markdown",
   "metadata": {
    "slideshow": {
     "slide_type": "slide"
    }
   },
   "source": [
    "# Regular Expressions"
   ]
  },
  {
   "cell_type": "code",
   "execution_count": null,
   "metadata": {
    "slideshow": {
     "slide_type": "fragment"
    }
   },
   "outputs": [],
   "source": [
    "# find digits\n",
    "string = 'LING 571'\n",
    "pattern = re.compile('[0-9]')\n",
    "pattern.search(string)"
   ]
  },
  {
   "cell_type": "code",
   "execution_count": null,
   "metadata": {
    "slideshow": {
     "slide_type": "fragment"
    }
   },
   "outputs": [],
   "source": [
    "# find float-like\n",
    "pattern2 = re.compile('[0-9]\\.[0-9]')  # what's wrong with this?"
   ]
  },
  {
   "cell_type": "markdown",
   "metadata": {
    "slideshow": {
     "slide_type": "slide"
    }
   },
   "source": [
    "# Text Processing"
   ]
  },
  {
   "cell_type": "code",
   "execution_count": null,
   "metadata": {
    "slideshow": {
     "slide_type": "fragment"
    }
   },
   "outputs": [],
   "source": [
    "string = 'quick brown fox'\n",
    "string.split(' ')"
   ]
  },
  {
   "cell_type": "code",
   "execution_count": null,
   "metadata": {
    "slideshow": {
     "slide_type": "fragment"
    }
   },
   "outputs": [],
   "source": [
    "string.replace(' ', ', ')"
   ]
  },
  {
   "cell_type": "code",
   "execution_count": null,
   "metadata": {
    "slideshow": {
     "slide_type": "fragment"
    }
   },
   "outputs": [],
   "source": [
    "'quick' in string"
   ]
  },
  {
   "cell_type": "markdown",
   "metadata": {
    "slideshow": {
     "slide_type": "slide"
    }
   },
   "source": [
    "# Roadmap\n",
    "\n",
    "* Background\n",
    "* Getting Started\n",
    "* Learning and Practicing\n",
    "* **NLTK + Resources**"
   ]
  },
  {
   "cell_type": "markdown",
   "metadata": {
    "slideshow": {
     "slide_type": "slide"
    }
   },
   "source": [
    "# NLTK\n",
    "\n",
    "* Natural Language ToolKit [http://nltk.org]()\n",
    "* Large collection of NLP tools, corpora, algorithms:\n",
    "    * tokenizers, stemmers\n",
    "    * parsers\n",
    "    * semantic analysis\n",
    "    * corpus fragments\n",
    "    * ML components\n",
    "* Public domain, open source\n",
    "* Pedagogically oriented: online book (better than docs), examples\n",
    "* Heavily used in 571, useful elsewhere"
   ]
  },
  {
   "cell_type": "markdown",
   "metadata": {
    "slideshow": {
     "slide_type": "slide"
    }
   },
   "source": [
    "# Using Python\n",
    "\n",
    "* Minimum: 2.7\n",
    "    * Last version of 2, being phased ou\n",
    "    * May be required for legacy\n",
    "* Recommended: 3.4+ (3.8.6 current newest as of Sep, 2020)\n",
    "* On `patas`\n",
    "    * default: `2.7.5`\n",
    "    * 3.6: use `/opt/python36` (you can make an `alias` in `~/.bashrc` to make this the default)\n",
    "    * best: for projects, always use `conda` environments!"
   ]
  },
  {
   "cell_type": "markdown",
   "metadata": {
    "slideshow": {
     "slide_type": "slide"
    }
   },
   "source": [
    "# Some other tools\n",
    "\n",
    "* Linting:\n",
    "    - pylint\n",
    "    - pep8\n",
    "    - mypy (reasons using type hints)\n",
    "* Formatting:\n",
    "    - PEP8\n",
    "    - [https://black.readthedocs.io/en/stable/](black) (my recommendation)\n",
    " "
   ]
  },
  {
   "cell_type": "markdown",
   "metadata": {
    "slideshow": {
     "slide_type": "slide"
    }
   },
   "source": [
    "# Python Resources\n",
    "\n",
    "* Books:\n",
    "    * Lutz and Ascher, _Learning Python_, O'Reilly\n",
    "    * Martelli, _Python in a Nutshell_, O'Reilly\n",
    "    * Beazley, _Python Essential Reference_, Developers Library\n",
    "* Online\n",
    "    * Mark Wilson, _Dive into Python_ [http://www.diveintopython3.net/]()\n",
    "        * for experienced programmers\n",
    "    * [http://python.org](http://python.org)\n",
    "    * [NLTK book](http://www.nltk.org/book)"
   ]
  }
 ],
 "metadata": {
  "celltoolbar": "Diavoorstelling",
  "kernelspec": {
   "display_name": "Python 3",
   "language": "python",
   "name": "python3"
  },
  "language_info": {
   "codemirror_mode": {
    "name": "ipython",
    "version": 3
   },
   "file_extension": ".py",
   "mimetype": "text/x-python",
   "name": "python",
   "nbconvert_exporter": "python",
   "pygments_lexer": "ipython3",
   "version": "3.8.5"
  }
 },
 "nbformat": 4,
 "nbformat_minor": 2
}
